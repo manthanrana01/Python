{
  "nbformat": 4,
  "nbformat_minor": 0,
  "metadata": {
    "colab": {
      "provenance": [],
      "include_colab_link": true
    },
    "kernelspec": {
      "name": "python3",
      "display_name": "Python 3"
    },
    "language_info": {
      "name": "python"
    }
  },
  "cells": [
    {
      "cell_type": "markdown",
      "metadata": {
        "id": "view-in-github",
        "colab_type": "text"
      },
      "source": [
        "<a href=\"https://colab.research.google.com/github/manthanrana01/Python/blob/main/pandas.ipynb\" target=\"_parent\"><img src=\"https://colab.research.google.com/assets/colab-badge.svg\" alt=\"Open In Colab\"/></a>"
      ]
    },
    {
      "cell_type": "code",
      "execution_count": null,
      "metadata": {
        "colab": {
          "base_uri": "https://localhost:8080/"
        },
        "id": "tKkp3V76EzKL",
        "outputId": "af45b8b7-9e19-47fa-ee3e-ef34458cd219"
      },
      "outputs": [
        {
          "output_type": "stream",
          "name": "stdout",
          "text": [
            "     name :  salary :\n",
            "0    vanita     50000\n",
            "1  vanshika     30000\n",
            "2     mohit     50000\n",
            "3     sohit     40000\n"
          ]
        }
      ],
      "source": [
        "#pandas are library\n",
        "#import panads as pd :\n",
        "#it creates data frames , i.e it creates it into tabular form\n",
        "\n",
        "import pandas as pd\n",
        "employer ={\"name :\" : [\"vanita\",\"vanshika\",\"mohit\",\"sohit\"],\n",
        "           \"salary :\": [50000,30000,50000,40000],\n",
        "           \"designation :\": [\"data analys\",\"data analytics\",\"data science\",\"web devlepoment\"]}\n",
        "df=pd.DataFrame(employer) #datframe here shows table\n",
        "# print(df) #it will show entire table\n",
        "# print(df[\"name :\"]) #it will only show name\n",
        "print(df[[\"name :\",\"salary :\"]]) #it will show only this"
      ]
    },
    {
      "cell_type": "code",
      "source": [
        "#csv file\n",
        "import pandas as pd\n",
        "df=pd.read_csv(\"sales.csv\") #to read data\n",
        "dt=df.head()  #shows first 4 column\n",
        "dd=df.tail()  #shows last columns\n",
        "# print(dt)\n",
        "# print(df.groupby(\"State\")[\"Amount\"].sum())\n",
        "# print(df.groupby(\"Gender\")[\"Amount\"].sum())\n",
        "# print(df.groupby(\"Product\")[\"Amount\"].sum())\n",
        "# print(df)\n",
        "print(df.groupby([\"State\",\"Product\"])[\"Amount\"].sum()) #for getting sum of different things"
      ],
      "metadata": {
        "colab": {
          "base_uri": "https://localhost:8080/"
        },
        "id": "7bImk5OqIFiv",
        "outputId": "b0b2dc71-8633-4892-9954-c044af1fd562"
      },
      "execution_count": null,
      "outputs": [
        {
          "output_type": "stream",
          "name": "stdout",
          "text": [
            "State       Product   \n",
            "California  Headphones     684\n",
            "            Laptop        2645\n",
            "            Phone         2373\n",
            "            Tablet        6529\n",
            "Florida     Headphones    1306\n",
            "            Laptop        3042\n",
            "            Phone         4967\n",
            "            Tablet        4372\n",
            "Illinois    Headphones    3878\n",
            "            Laptop        2369\n",
            "            Phone         3350\n",
            "            Tablet        1123\n",
            "New York    Headphones    3253\n",
            "            Laptop        4261\n",
            "            Phone         1361\n",
            "            Tablet        1134\n",
            "Texas       Headphones    3848\n",
            "            Laptop         995\n",
            "            Phone          800\n",
            "            Tablet        1173\n",
            "Name: Amount, dtype: int64\n"
          ]
        }
      ]
    },
    {
      "cell_type": "code",
      "source": [
        "#csv\n",
        "import pandas as pd\n",
        "df=pd.read"
      ],
      "metadata": {
        "id": "ubA6MZDVKGfH"
      },
      "execution_count": null,
      "outputs": []
    }
  ]
}
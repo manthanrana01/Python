{
  "nbformat": 4,
  "nbformat_minor": 0,
  "metadata": {
    "colab": {
      "provenance": [],
      "authorship_tag": "ABX9TyNAGRKmjmyS8KcNOUE+dGAB",
      "include_colab_link": true
    },
    "kernelspec": {
      "name": "python3",
      "display_name": "Python 3"
    },
    "language_info": {
      "name": "python"
    }
  },
  "cells": [
    {
      "cell_type": "markdown",
      "metadata": {
        "id": "view-in-github",
        "colab_type": "text"
      },
      "source": [
        "<a href=\"https://colab.research.google.com/github/manthanrana01/Python/blob/main/Python_project_2.ipynb\" target=\"_parent\"><img src=\"https://colab.research.google.com/assets/colab-badge.svg\" alt=\"Open In Colab\"/></a>"
      ]
    },
    {
      "cell_type": "code",
      "execution_count": null,
      "metadata": {
        "id": "Sf4riKi_IrBb"
      },
      "outputs": [],
      "source": [
        "#in set comes in {} barses evertying is same as list but you cannot duplicate the value6 dont allow index\n",
        "#dictoney comes in {}\n"
      ]
    },
    {
      "cell_type": "code",
      "source": [
        "item = {\n",
        "    \"apple\" : 120,\n",
        "    \"banana\" : 60,\n",
        "    \"grapes\" : 100,\n",
        "}\n",
        "\n",
        "print(item)"
      ],
      "metadata": {
        "colab": {
          "base_uri": "https://localhost:8080/"
        },
        "id": "45U04oiWKi9v",
        "outputId": "8a81d72c-4299-4d70-8297-8869076551df"
      },
      "execution_count": null,
      "outputs": [
        {
          "output_type": "stream",
          "name": "stdout",
          "text": [
            "{'apple': 120, 'banana': 60, 'grapes': 100}\n"
          ]
        }
      ]
    },
    {
      "cell_type": "code",
      "source": [
        "item = {\n",
        "    \"apple\" : 120,#apple is  key # 120 is value\n",
        "    \"banana\" : 60,\n",
        "    \"grapes\" : 100,\n",
        "}\n",
        "\n",
        "print(item[\"apple\"])"
      ],
      "metadata": {
        "colab": {
          "base_uri": "https://localhost:8080/"
        },
        "id": "pnvpS5s7LHCz",
        "outputId": "ad606e6f-84d0-418d-a9b1-133b9ad4665f"
      },
      "execution_count": null,
      "outputs": [
        {
          "output_type": "stream",
          "name": "stdout",
          "text": [
            "120\n"
          ]
        }
      ]
    },
    {
      "cell_type": "code",
      "source": [
        "item = {\n",
        "    \"apple\" : 120,\n",
        "    \"banana\" : 60,\n",
        "    \"grapes\" : 100,\n",
        "}\n",
        "for key,value in item.items():\n",
        "  print(\"price of \",key,value)\n"
      ],
      "metadata": {
        "colab": {
          "base_uri": "https://localhost:8080/"
        },
        "id": "W0mAdJCDLTsU",
        "outputId": "d1c3cf47-32b3-4f24-a7f8-9bb3e89ad512"
      },
      "execution_count": null,
      "outputs": [
        {
          "output_type": "stream",
          "name": "stdout",
          "text": [
            "price of  apple 120\n",
            "price of  banana 60\n",
            "price of  grapes 100\n"
          ]
        }
      ]
    },
    {
      "cell_type": "code",
      "source": [
        "item = {\n",
        "    \"apple\" : 120,\n",
        "    \"banana\" : 60,\n",
        "    \"grapes\" : 100,\n",
        "}\n",
        "for value in item.values():\n",
        "  print(\"price of \",value)\n"
      ],
      "metadata": {
        "colab": {
          "base_uri": "https://localhost:8080/"
        },
        "id": "TmlWQ2zxMJsf",
        "outputId": "f6a48992-c819-40e3-836e-5fd5011bc5df"
      },
      "execution_count": null,
      "outputs": [
        {
          "output_type": "stream",
          "name": "stdout",
          "text": [
            "price of  120\n",
            "price of  60\n",
            "price of  100\n"
          ]
        }
      ]
    },
    {
      "cell_type": "code",
      "source": [
        "item = {\n",
        "    \"apple\" : 120,\n",
        "    \"banana\" : 60,\n",
        "    \"grapes\" : 100,\n",
        "}\n",
        "for value in item.keys():\n",
        "  print(\"price of \",value)"
      ],
      "metadata": {
        "colab": {
          "base_uri": "https://localhost:8080/"
        },
        "id": "08XOyGlIMgSA",
        "outputId": "84ce1350-c17b-42e6-fcbb-514b073cfa0b"
      },
      "execution_count": null,
      "outputs": [
        {
          "output_type": "stream",
          "name": "stdout",
          "text": [
            "price of  apple\n",
            "price of  banana\n",
            "price of  grapes\n"
          ]
        }
      ]
    },
    {
      "cell_type": "code",
      "source": [
        "item = {\n",
        "    \"apple\" : 120,\n",
        "    \"banana\" : 60,\n",
        "    \"grapes\" : 100,#finding total\n",
        "}\n",
        "total =0\n",
        "for value in item.values():\n",
        "  total += value\n",
        "print(\"price of \",total)"
      ],
      "metadata": {
        "colab": {
          "base_uri": "https://localhost:8080/"
        },
        "id": "mR2MgoC0Mkd_",
        "outputId": "194122dc-1f7c-48c6-ca5e-d15495b687a5"
      },
      "execution_count": null,
      "outputs": [
        {
          "output_type": "stream",
          "name": "stdout",
          "text": [
            "price of  280\n"
          ]
        }
      ]
    },
    {
      "cell_type": "code",
      "source": [
        "item = {\n",
        "    \"apple\" : [120,200,100],\n",
        "    \"banana\" : 60,\n",
        "    \"grapes\" : 100,\n",
        "}\n",
        "\n",
        "for key in item[\"apple\"]:\n",
        "  print(key)"
      ],
      "metadata": {
        "colab": {
          "base_uri": "https://localhost:8080/"
        },
        "id": "bOIDZnnHOKZ0",
        "outputId": "f741cc5f-c6ee-4d5d-c6dd-d633c0b48b94"
      },
      "execution_count": null,
      "outputs": [
        {
          "output_type": "stream",
          "name": "stdout",
          "text": [
            "120\n",
            "200\n",
            "100\n"
          ]
        }
      ]
    },
    {
      "cell_type": "code",
      "source": [],
      "metadata": {
        "id": "wCrVzlhEOsHc"
      },
      "execution_count": null,
      "outputs": []
    }
  ]
}
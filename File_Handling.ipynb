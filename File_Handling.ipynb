{
  "nbformat": 4,
  "nbformat_minor": 0,
  "metadata": {
    "colab": {
      "provenance": [],
      "authorship_tag": "ABX9TyNv/jwtT+99bOb5Dqm6pKbA",
      "include_colab_link": true
    },
    "kernelspec": {
      "name": "python3",
      "display_name": "Python 3"
    },
    "language_info": {
      "name": "python"
    }
  },
  "cells": [
    {
      "cell_type": "markdown",
      "metadata": {
        "id": "view-in-github",
        "colab_type": "text"
      },
      "source": [
        "<a href=\"https://colab.research.google.com/github/manthanrana01/Python/blob/main/File_Handling.ipynb\" target=\"_parent\"><img src=\"https://colab.research.google.com/assets/colab-badge.svg\" alt=\"Open In Colab\"/></a>"
      ]
    },
    {
      "cell_type": "markdown",
      "source": [
        "File Handling\n",
        "operation  like\n",
        "read ,write\n",
        "'with' is keyword\n",
        "open is function\n",
        "(file.txt\" \"w') as file\n",
        "file .write(\"hi\")\n",
        "w for  write\n",
        "r for read\n",
        "a is for append for adding the data  without delelting the previous deleting previosu value"
      ],
      "metadata": {
        "id": "CZAV8PozxwO7"
      }
    },
    {
      "cell_type": "code",
      "source": [
        "with open(\"file.txt\",\"w\") as file:#for creating  and adding the  keyword\n",
        "    file.write(\"hi\")"
      ],
      "metadata": {
        "id": "xB7keCRfx1_5"
      },
      "execution_count": null,
      "outputs": []
    },
    {
      "cell_type": "code",
      "source": [
        "with open(\"file.txt\",\"r\") as file:\n",
        "    file.read()"
      ],
      "metadata": {
        "id": "J2z-q1WbzCPH"
      },
      "execution_count": null,
      "outputs": []
    },
    {
      "cell_type": "code",
      "source": [
        "with open(\"file.txt\",\"r\") as file: #for reading  file\n",
        "    data=file.read()\n",
        "    print(data)"
      ],
      "metadata": {
        "colab": {
          "base_uri": "https://localhost:8080/"
        },
        "id": "mu_b0ixZzttA",
        "outputId": "3e7576d1-707f-4c62-cebb-ccdde3970155"
      },
      "execution_count": null,
      "outputs": [
        {
          "output_type": "stream",
          "name": "stdout",
          "text": [
            "hi\n"
          ]
        }
      ]
    },
    {
      "cell_type": "code",
      "source": [
        "with open(\"file.txt\",\"a\") as file: #append for adding the value\n",
        "    file.write(\"i am Manthan\")"
      ],
      "metadata": {
        "id": "T8kIL3NK0Bq9"
      },
      "execution_count": null,
      "outputs": []
    },
    {
      "cell_type": "code",
      "source": [
        "with open(\"file1.txt\",\"w\")as file:\n",
        "    file.write(\"Manthan\")"
      ],
      "metadata": {
        "id": "VsBnlsQk1lOc"
      },
      "execution_count": null,
      "outputs": []
    },
    {
      "cell_type": "code",
      "source": [
        "with open(\"file2.txt\",\"w\")as file:\n",
        "    file.write(\"Bhardawaj\")"
      ],
      "metadata": {
        "id": "RJJ01oiT19Bk"
      },
      "execution_count": null,
      "outputs": []
    },
    {
      "cell_type": "code",
      "source": [
        "with open(\"file1.txt\",\"r\") as file:\n",
        "    data1=file.read()\n",
        "    print(data1)"
      ],
      "metadata": {
        "colab": {
          "base_uri": "https://localhost:8080/"
        },
        "id": "KHFc4FTR2HUM",
        "outputId": "07661c9d-87c2-488a-82f3-eef9af7af020"
      },
      "execution_count": null,
      "outputs": [
        {
          "output_type": "stream",
          "name": "stdout",
          "text": [
            "Manthan\n"
          ]
        }
      ]
    },
    {
      "cell_type": "code",
      "source": [
        "with open(\"file2.txt\",\"r\") as file:\n",
        "    data=file.read()\n",
        "    print(data)"
      ],
      "metadata": {
        "colab": {
          "base_uri": "https://localhost:8080/"
        },
        "id": "oBDJ0D1N2M6q",
        "outputId": "f7c198ef-54eb-4835-d6c1-9bb8817addf0"
      },
      "execution_count": null,
      "outputs": [
        {
          "output_type": "stream",
          "name": "stdout",
          "text": [
            "Bhardawaj\n"
          ]
        }
      ]
    },
    {
      "cell_type": "code",
      "source": [
        "with open(\"file3.txt\",\"w\")as file:\n",
        "    file.write(data1+\" \"+data )"
      ],
      "metadata": {
        "id": "PJ-zGDEL2ZHT"
      },
      "execution_count": null,
      "outputs": []
    },
    {
      "cell_type": "code",
      "source": [
        "import csv\n",
        "with open(\"sales.csv\",\"r\") as file:\n",
        "    reader=csv.reader(file)\n",
        "    hader = next(reader)\n",
        "    x = list(reader)\n",
        "    print(x)"
      ],
      "metadata": {
        "colab": {
          "base_uri": "https://localhost:8080/"
        },
        "id": "fYSZAifw7NC1",
        "outputId": "11e32b62-0d76-4f29-bb17-f4600bea7191"
      },
      "execution_count": null,
      "outputs": [
        {
          "output_type": "stream",
          "name": "stdout",
          "text": [
            "[['Alice', 'F', 'California', 'Laptop', '1200'], ['Bob', 'M', 'Texas', 'Phone', '800'], ['Charlie', 'M', 'California', 'Tablet', '450'], ['Diana', 'F', 'New York', 'Laptop', '1300'], ['Ethan', 'M', 'Texas', 'Headphones', '200'], ['Fiona', 'F', 'Florida', 'Phone', '850'], ['George', 'M', 'California', 'Phone', '750'], ['Hannah', 'F', 'Texas', 'Tablet', '500'], ['Ian', 'M', 'Florida', 'Laptop', '1400'], ['Jane', 'F', 'New York', 'Headphones', '220'], ['Kevin', 'M', 'New York', 'Laptop', '976'], ['Laura', 'F', 'California', 'Tablet', '1186'], ['Mike', 'M', 'Florida', 'Headphones', '315'], ['Nina', 'F', 'California', 'Laptop', '1445'], ['Oscar', 'F', 'California', 'Tablet', '560'], ['Paula', 'M', 'Texas', 'Headphones', '1998'], ['Quinn', 'M', 'Florida', 'Phone', '526'], ['Rita', 'F', 'New York', 'Tablet', '1134'], ['Sam', 'F', 'New York', 'Laptop', '412'], ['Tina', 'M', 'California', 'Tablet', '1901'], ['Uma', 'M', 'Illinois', 'Phone', '1925'], ['Victor', 'F', 'Illinois', 'Headphones', '697'], ['Wendy', 'M', 'Texas', 'Tablet', '673'], ['Xander', 'F', 'Florida', 'Headphones', '991'], ['Yara', 'M', 'Illinois', 'Laptop', '1173'], ['Zane', 'M', 'Florida', 'Phone', '1773'], ['Liam', 'F', 'Florida', 'Laptop', '659'], ['Mia', 'F', 'California', 'Tablet', '1745'], ['Noah', 'F', 'Illinois', 'Headphones', '1070'], ['Olivia', 'M', 'New York', 'Phone', '1361'], ['Peter', 'M', 'Florida', 'Tablet', '1424'], ['Sophia', 'M', 'Illinois', 'Tablet', '219'], ['James', 'M', 'Texas', 'Headphones', '1650'], ['Ava', 'F', 'Florida', 'Phone', '1818'], ['Henry', 'M', 'Illinois', 'Tablet', '904'], ['Emily', 'F', 'Illinois', 'Laptop', '1196'], ['Daniel', 'M', 'Florida', 'Laptop', '983'], ['Grace', 'M', 'New York', 'Laptop', '1573'], ['Jacob', 'F', 'Illinois', 'Headphones', '603'], ['Ella', 'F', 'Illinois', 'Phone', '1425'], ['Lucas', 'F', 'Texas', 'Laptop', '331'], ['Amelia', 'M', 'New York', 'Headphones', '1614'], ['Mason', 'M', 'Florida', 'Tablet', '1514'], ['Harper', 'F', 'California', 'Tablet', '687'], ['Logan', 'M', 'California', 'Headphones', '684'], ['Evelyn', 'F', 'Florida', 'Tablet', '1434'], ['Ethan', 'M', 'Texas', 'Laptop', '664'], ['Abigail', 'M', 'New York', 'Headphones', '1419'], ['Elijah', 'M', 'Illinois', 'Headphones', '1508'], ['Charlotte', 'F', 'California', 'Phone', '1623']]\n"
          ]
        }
      ]
    },
    {
      "cell_type": "code",
      "source": [
        "import csv\n",
        "with open(\"sales.csv\",\"r\") as file:\n",
        "    reader=csv.reader(file)\n",
        "    hader = next(reader)\n",
        "    for row in reader:\n",
        "        print(row)"
      ],
      "metadata": {
        "colab": {
          "base_uri": "https://localhost:8080/"
        },
        "id": "X0r8BZR4-jB_",
        "outputId": "9e36b07a-7d70-4d00-ec88-1180970392a5"
      },
      "execution_count": null,
      "outputs": [
        {
          "output_type": "stream",
          "name": "stdout",
          "text": [
            "['Alice', 'F', 'California', 'Laptop', '1200']\n",
            "['Bob', 'M', 'Texas', 'Phone', '800']\n",
            "['Charlie', 'M', 'California', 'Tablet', '450']\n",
            "['Diana', 'F', 'New York', 'Laptop', '1300']\n",
            "['Ethan', 'M', 'Texas', 'Headphones', '200']\n",
            "['Fiona', 'F', 'Florida', 'Phone', '850']\n",
            "['George', 'M', 'California', 'Phone', '750']\n",
            "['Hannah', 'F', 'Texas', 'Tablet', '500']\n",
            "['Ian', 'M', 'Florida', 'Laptop', '1400']\n",
            "['Jane', 'F', 'New York', 'Headphones', '220']\n",
            "['Kevin', 'M', 'New York', 'Laptop', '976']\n",
            "['Laura', 'F', 'California', 'Tablet', '1186']\n",
            "['Mike', 'M', 'Florida', 'Headphones', '315']\n",
            "['Nina', 'F', 'California', 'Laptop', '1445']\n",
            "['Oscar', 'F', 'California', 'Tablet', '560']\n",
            "['Paula', 'M', 'Texas', 'Headphones', '1998']\n",
            "['Quinn', 'M', 'Florida', 'Phone', '526']\n",
            "['Rita', 'F', 'New York', 'Tablet', '1134']\n",
            "['Sam', 'F', 'New York', 'Laptop', '412']\n",
            "['Tina', 'M', 'California', 'Tablet', '1901']\n",
            "['Uma', 'M', 'Illinois', 'Phone', '1925']\n",
            "['Victor', 'F', 'Illinois', 'Headphones', '697']\n",
            "['Wendy', 'M', 'Texas', 'Tablet', '673']\n",
            "['Xander', 'F', 'Florida', 'Headphones', '991']\n",
            "['Yara', 'M', 'Illinois', 'Laptop', '1173']\n",
            "['Zane', 'M', 'Florida', 'Phone', '1773']\n",
            "['Liam', 'F', 'Florida', 'Laptop', '659']\n",
            "['Mia', 'F', 'California', 'Tablet', '1745']\n",
            "['Noah', 'F', 'Illinois', 'Headphones', '1070']\n",
            "['Olivia', 'M', 'New York', 'Phone', '1361']\n",
            "['Peter', 'M', 'Florida', 'Tablet', '1424']\n",
            "['Sophia', 'M', 'Illinois', 'Tablet', '219']\n",
            "['James', 'M', 'Texas', 'Headphones', '1650']\n",
            "['Ava', 'F', 'Florida', 'Phone', '1818']\n",
            "['Henry', 'M', 'Illinois', 'Tablet', '904']\n",
            "['Emily', 'F', 'Illinois', 'Laptop', '1196']\n",
            "['Daniel', 'M', 'Florida', 'Laptop', '983']\n",
            "['Grace', 'M', 'New York', 'Laptop', '1573']\n",
            "['Jacob', 'F', 'Illinois', 'Headphones', '603']\n",
            "['Ella', 'F', 'Illinois', 'Phone', '1425']\n",
            "['Lucas', 'F', 'Texas', 'Laptop', '331']\n",
            "['Amelia', 'M', 'New York', 'Headphones', '1614']\n",
            "['Mason', 'M', 'Florida', 'Tablet', '1514']\n",
            "['Harper', 'F', 'California', 'Tablet', '687']\n",
            "['Logan', 'M', 'California', 'Headphones', '684']\n",
            "['Evelyn', 'F', 'Florida', 'Tablet', '1434']\n",
            "['Ethan', 'M', 'Texas', 'Laptop', '664']\n",
            "['Abigail', 'M', 'New York', 'Headphones', '1419']\n",
            "['Elijah', 'M', 'Illinois', 'Headphones', '1508']\n",
            "['Charlotte', 'F', 'California', 'Phone', '1623']\n"
          ]
        }
      ]
    },
    {
      "cell_type": "code",
      "source": [
        "import csv\n",
        "with open(\"sales.csv\",\"r\") as file:\n",
        "    reader=csv.reader(file)\n",
        "    hader = next(reader)\n",
        "    for row in reader:\n",
        "      name.append(row)"
      ],
      "metadata": {
        "id": "-wXO3Dbo_pto"
      },
      "execution_count": null,
      "outputs": []
    },
    {
      "cell_type": "code",
      "source": [
        "import csv\n",
        "name,gender,state,product,amount = [],[],[],[],[]\n",
        "with open(\"sales.csv\",\"r\") as obj:\n",
        "  var = csv.reader(obj) #obj is object, need to store object in cv,reader function\n",
        "  header = next(var)\n",
        "  n = list(var)#converting in list\n",
        "  for i in n:\n",
        "    name.append(i[0])\n",
        "    gender.append(i[1])\n",
        "    state.append(i[2])\n",
        "    product.append(i[3])\n",
        "    amount.append(i[4])\n",
        "print(\"name : \",name)\n",
        "print(\"gender : \",gender)\n",
        "print(\"state : \",state)\n",
        "print(\"product : \",product)\n",
        "print(\"amount : \",amount)"
      ],
      "metadata": {
        "id": "mh6kQEaA8uDT"
      },
      "execution_count": null,
      "outputs": []
    },
    {
      "cell_type": "code",
      "source": [
        "with open(\"files3.txt\",\"w\") as file:\n",
        "  file.write(\"babydinasour \\n\")\n",
        "  file.write(\"Kaushal \\n\")\n",
        "  file.write(\"manthan\")"
      ],
      "metadata": {
        "id": "bQM-rN0G9JLC"
      },
      "execution_count": 3,
      "outputs": []
    },
    {
      "cell_type": "code",
      "source": [
        "with open(\"files3.txt\", \"r\") as file:\n",
        "  data = file.read()\n",
        "  print (data)"
      ],
      "metadata": {
        "colab": {
          "base_uri": "https://localhost:8080/"
        },
        "id": "_GEfAqbQ-prA",
        "outputId": "90e22150-c192-4777-e2d6-22b7a0769d48"
      },
      "execution_count": 10,
      "outputs": [
        {
          "output_type": "stream",
          "name": "stdout",
          "text": [
            "babydinasour \n",
            "Kaushal \n",
            "manthan\n"
          ]
        }
      ]
    },
    {
      "cell_type": "code",
      "source": [
        "with open(\"files3.txt\", \"r\") as file:\n",
        "  data = file.readline()#for 1st line\n",
        "  print(data)"
      ],
      "metadata": {
        "colab": {
          "base_uri": "https://localhost:8080/"
        },
        "id": "_gyF1GoK_LhZ",
        "outputId": "f18c85e6-8fd4-4beb-abb0-2b315f1a6a7e"
      },
      "execution_count": 9,
      "outputs": [
        {
          "output_type": "stream",
          "name": "stdout",
          "text": [
            "babydinasour \n",
            "\n"
          ]
        }
      ]
    },
    {
      "cell_type": "code",
      "source": [
        "with open(\"files3.txt\", \"r\") as file:\n",
        "  data = file.readlines()\n",
        "  print (data)"
      ],
      "metadata": {
        "colab": {
          "base_uri": "https://localhost:8080/"
        },
        "id": "KfFCKdwI_bt2",
        "outputId": "fe358fc5-3fba-465b-f81a-874752d658cb"
      },
      "execution_count": 11,
      "outputs": [
        {
          "output_type": "stream",
          "name": "stdout",
          "text": [
            "['babydinasour \\n', 'Kaushal \\n', 'manthan']\n"
          ]
        }
      ]
    },
    {
      "cell_type": "code",
      "source": [
        "with open(\"files3.txt\", \"r\") as file:\n",
        "  data = file.readlines()\n",
        "  for i in data:\n",
        "    print(i)"
      ],
      "metadata": {
        "colab": {
          "base_uri": "https://localhost:8080/"
        },
        "id": "ySAY0Pue_kq3",
        "outputId": "54933022-12cc-4ea2-e5c4-bd5e7d1399f6"
      },
      "execution_count": 12,
      "outputs": [
        {
          "output_type": "stream",
          "name": "stdout",
          "text": [
            "babydinasour \n",
            "\n",
            "Kaushal \n",
            "\n",
            "manthan\n"
          ]
        }
      ]
    }
  ]
}
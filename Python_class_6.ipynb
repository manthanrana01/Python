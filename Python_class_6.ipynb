{
  "nbformat": 4,
  "nbformat_minor": 0,
  "metadata": {
    "colab": {
      "provenance": [],
      "authorship_tag": "ABX9TyN68Q+Qo94PN7w8v7dB58GQ",
      "include_colab_link": true
    },
    "kernelspec": {
      "name": "python3",
      "display_name": "Python 3"
    },
    "language_info": {
      "name": "python"
    }
  },
  "cells": [
    {
      "cell_type": "markdown",
      "metadata": {
        "id": "view-in-github",
        "colab_type": "text"
      },
      "source": [
        "<a href=\"https://colab.research.google.com/github/manthanrana01/Python/blob/main/Python_class_6.ipynb\" target=\"_parent\"><img src=\"https://colab.research.google.com/assets/colab-badge.svg\" alt=\"Open In Colab\"/></a>"
      ]
    },
    {
      "cell_type": "code",
      "execution_count": null,
      "metadata": {
        "id": "hxJ98I_l-2wI",
        "colab": {
          "base_uri": "https://localhost:8080/"
        },
        "outputId": "78f6b5cf-a255-4871-de1f-deedb774745e"
      },
      "outputs": [
        {
          "output_type": "stream",
          "name": "stdout",
          "text": [
            "4037913\n"
          ]
        }
      ],
      "source": [
        "factorial = 1\n",
        "total=0\n",
        "for i in range(1,11):\n",
        "  factorial*=i\n",
        "  total+=factorial\n",
        "print(total)"
      ]
    },
    {
      "cell_type": "code",
      "source": [],
      "metadata": {
        "id": "xdpedcG5L46g"
      },
      "execution_count": null,
      "outputs": []
    },
    {
      "cell_type": "code",
      "source": [
        "total =0\n",
        "for  i in range (1,6,2):\n",
        "  factorial=1\n",
        "  for j in range(1,i+1):\n",
        "    factorial*=j\n",
        "  total+=factorial\n",
        "print(total)"
      ],
      "metadata": {
        "colab": {
          "base_uri": "https://localhost:8080/"
        },
        "id": "6JjNM3t3K6J1",
        "outputId": "68322341-628f-45d4-98b8-903c91b99d76"
      },
      "execution_count": null,
      "outputs": [
        {
          "output_type": "stream",
          "name": "stdout",
          "text": [
            "127\n"
          ]
        }
      ]
    },
    {
      "cell_type": "code",
      "source": [
        "fact_n = 1\n",
        "sum_n = 0\n",
        "for m in range(1,7):\n",
        "\n",
        "  fact_n *= m\n",
        "  print(fact_n)\n",
        "  if m == (m * 2) :\n",
        "    sum_n += fact_n\n",
        "    print(sum_n)\n",
        "print(sum_n)"
      ],
      "metadata": {
        "colab": {
          "base_uri": "https://localhost:8080/"
        },
        "id": "mG7iONtXZsuw",
        "outputId": "cc0c7bb9-8283-4d6f-a0cd-14f6bfa16f0f"
      },
      "execution_count": null,
      "outputs": [
        {
          "output_type": "stream",
          "name": "stdout",
          "text": [
            "1\n",
            "2\n",
            "6\n",
            "24\n",
            "120\n",
            "720\n",
            "0\n"
          ]
        }
      ]
    },
    {
      "cell_type": "code",
      "source": [
        "total =0\n",
        "for  i in range (1,7,2):\n",
        "  factorial=1\n",
        "  for j in range(1,i+1):\n",
        "    factorial*=j\n",
        "  total+=factorial\n",
        "print(total)"
      ],
      "metadata": {
        "colab": {
          "base_uri": "https://localhost:8080/"
        },
        "id": "NN_YBhl0TQns",
        "outputId": "8c471389-20c3-4fdc-a903-62d5aed4057a"
      },
      "execution_count": null,
      "outputs": [
        {
          "output_type": "stream",
          "name": "stdout",
          "text": [
            "127\n"
          ]
        }
      ]
    },
    {
      "cell_type": "code",
      "source": [
        "fact =1\n",
        "total = 0\n",
        "for i in range (1,21,2):\n",
        "  fact*=i\n",
        "  if i==2 or i==20:\n",
        "    total+=fact\n",
        "print(total)\n"
      ],
      "metadata": {
        "colab": {
          "base_uri": "https://localhost:8080/"
        },
        "id": "DPr_Yf7-Sed8",
        "outputId": "4d70c3f7-d1cb-4d5a-9da7-aae057678397"
      },
      "execution_count": null,
      "outputs": [
        {
          "output_type": "stream",
          "name": "stdout",
          "text": [
            "0\n"
          ]
        }
      ]
    },
    {
      "cell_type": "code",
      "source": [
        "fact = 1 #1!+3!...... bn nbn b\n",
        "total =0\n",
        "for i in range (1,7):\n",
        "  fact= fact*i\n",
        "  if i%2!=0:\n",
        "    total = total+fact\n",
        "print(total)\n"
      ],
      "metadata": {
        "colab": {
          "base_uri": "https://localhost:8080/"
        },
        "id": "6Pf6Bi9zT2uI",
        "outputId": "a36513bd-7561-4713-8765-17a21873ab40"
      },
      "execution_count": null,
      "outputs": [
        {
          "output_type": "stream",
          "name": "stdout",
          "text": [
            "127\n"
          ]
        }
      ]
    },
    {
      "cell_type": "code",
      "source": [
        "#finding time when a and b will meet at the same point\n",
        "person_A=40\n",
        "person_B=30\n",
        "total_time = 630\n",
        "if person_A>person_B:\n",
        "  greater=person_A\n",
        "else:\n",
        "  greater=person_B\n",
        "for i in range(greater,person_A*person_B+1):\n",
        "    if i%person_A==0 and i%person_B==0:\n",
        "      time1=i\n",
        "      break\n",
        "print(\"the time taken \",time1)\n",
        "meetup = total_time/time1\n",
        "print(meetup)"
      ],
      "metadata": {
        "id": "yvbpa5DN8h2i"
      },
      "execution_count": null,
      "outputs": []
    },
    {
      "cell_type": "code",
      "source": [
        "#two ropes\n",
        "'''1st=36\n",
        "   2nd=48\n",
        "how muchh equal pieces we can cut rope into'''\n",
        "\n",
        "num1=36\n",
        "num2=48\n",
        "if num1>num2:\n",
        "  small=num2\n",
        "else:\n",
        "  small=num1\n",
        "  for j in range(1,small+1):\n",
        "     if num1%j==0 and num2%j==0:\n",
        "      hcf=j\n",
        "  print(hcf)\n",
        "  cut1=num1/hcf\n",
        "  print(f\"the amount of time 1st rope can be cut{cut1}\")\n",
        "  cut2=num2/hcf\n",
        "  print(f\"the amount of times 2nd ropecan be cut {cut2}\")\n",
        "  max_cut=cut1+cut2\n",
        "  print(f\"the maximum times ropes can be cut{max_cut}\")"
      ],
      "metadata": {
        "id": "cLQPI1kqFIkJ"
      },
      "execution_count": null,
      "outputs": []
    },
    {
      "cell_type": "code",
      "source": [
        "#distance of circle 400m and a takes 30 sec b akes 40 sec,find avg speed\n",
        "distance=400\n",
        "a=30\n",
        "b=40\n",
        "speed1=distance/a\n",
        "print(f\"speed of person a{speed1}\")\n",
        "speed2=distance/b\n",
        "print(f\"speed of person b{speed2}\")\n",
        "total=speed1+speed2\n",
        "avg=total/2\n",
        "print(avg)"
      ],
      "metadata": {
        "id": "yAiZLOxsFKAe"
      },
      "execution_count": null,
      "outputs": []
    },
    {
      "cell_type": "code",
      "source": [
        "def function():\n",
        "  print(\"hello world\")\n",
        "function()\n"
      ],
      "metadata": {
        "colab": {
          "base_uri": "https://localhost:8080/"
        },
        "id": "rv7bPc_QF2X_",
        "outputId": "7416e403-6fc1-4c00-97d5-68403c796782"
      },
      "execution_count": null,
      "outputs": [
        {
          "output_type": "stream",
          "name": "stdout",
          "text": [
            "hello world\n"
          ]
        }
      ]
    },
    {
      "cell_type": "code",
      "source": [
        "def function(a,b):\n",
        "  print(a+b)\n",
        "function(2,5)"
      ],
      "metadata": {
        "colab": {
          "base_uri": "https://localhost:8080/"
        },
        "id": "LcIAxaDcHGOl",
        "outputId": "1c34070c-2cbf-4c84-c309-8210999fc8d9"
      },
      "execution_count": null,
      "outputs": [
        {
          "output_type": "stream",
          "name": "stdout",
          "text": [
            "7\n"
          ]
        }
      ]
    },
    {
      "cell_type": "code",
      "source": [
        "def fact(n):\n",
        "  fact =1\n",
        "  for i in range (1,n+1):\n",
        "    fact=fact*i\n",
        "  print(fact)\n",
        "fact(3)"
      ],
      "metadata": {
        "colab": {
          "base_uri": "https://localhost:8080/"
        },
        "id": "762oG9XOHSG1",
        "outputId": "f1184899-5b63-4771-908b-f8f9ce76d436"
      },
      "execution_count": null,
      "outputs": [
        {
          "output_type": "stream",
          "name": "stdout",
          "text": [
            "6\n"
          ]
        }
      ]
    },
    {
      "cell_type": "code",
      "source": [
        "def count(number):\n",
        "    while number > 0:\n",
        "        digit = number % 10\n",
        "        print(digit)\n",
        "        number = number // 10\n",
        "\n",
        "count(5678)\n",
        "\n",
        "\n"
      ],
      "metadata": {
        "colab": {
          "base_uri": "https://localhost:8080/"
        },
        "id": "Se1HeikkMjGc",
        "outputId": "0b7fed9a-2daf-4574-8880-06f79d8461ff"
      },
      "execution_count": null,
      "outputs": [
        {
          "output_type": "stream",
          "name": "stdout",
          "text": [
            "8\n",
            "7\n",
            "6\n",
            "5\n"
          ]
        }
      ]
    },
    {
      "cell_type": "code",
      "source": [
        "def fibonacci(n):\n",
        "    a, b = 0, 1\n",
        "    for i in range(n):\n",
        "        print(a, end=\" \")\n",
        "        a, b = b, a + b\n",
        "\n",
        "fibonacci(10)\n"
      ],
      "metadata": {
        "colab": {
          "base_uri": "https://localhost:8080/"
        },
        "id": "f9UyXwS6QmWq",
        "outputId": "7190d68e-bf33-46fb-d838-404d6d35217e"
      },
      "execution_count": null,
      "outputs": [
        {
          "output_type": "stream",
          "name": "stdout",
          "text": [
            "0 1 1 2 3 5 8 13 21 34 "
          ]
        }
      ]
    },
    {
      "cell_type": "code",
      "source": [
        "def hcf(num1,num2):\n",
        "    if num1 < num2:\n",
        "        small = num1\n",
        "    else:\n",
        "        small = num2\n",
        "    for i in range(1,small + 1):\n",
        "        if num1 % i == 0 and num2 % i == 0:\n",
        "            hcf = i\n",
        "    print(hcf)\n",
        "\n",
        "hcf(12,56)"
      ],
      "metadata": {
        "colab": {
          "base_uri": "https://localhost:8080/"
        },
        "id": "wK9T9jEHND5B",
        "outputId": "53149a20-68a2-4693-d25b-aeb57c41e329"
      },
      "execution_count": null,
      "outputs": [
        {
          "output_type": "stream",
          "name": "stdout",
          "text": [
            "4\n"
          ]
        }
      ]
    },
    {
      "cell_type": "code",
      "source": [
        "def find_lcm(num1,num2):\n",
        "    if num1 > num2:\n",
        "        largest = num1\n",
        "    else:\n",
        "        largest = num2\n",
        "    for i in range(largest,(num1 * num2) + 1):\n",
        "        if i % num1 == 0 and i % num2 == 0:\n",
        "            lcm = i\n",
        "            break\n",
        "    return lcm\n",
        "\n",
        "result = find_lcm(14,41)\n",
        "print(f\"Lcm is {result}\")"
      ],
      "metadata": {
        "id": "mKoJs2B3PeJ7"
      },
      "execution_count": null,
      "outputs": []
    },
    {
      "cell_type": "code",
      "source": [
        "def simple_interest(principal, rate_per_month, months, days):\n",
        "    time_in_months = months + (days / 30)\n",
        "    si = (principal * rate_per_month * time_in_months) / 100\n",
        "    return si\n",
        "p = 1000\n",
        "r = 5\n",
        "m = 3\n",
        "d = 10\n",
        "si = simple_interest(p, r, m, d)\n",
        "total = p + si\n",
        "print(\"Simple Interest is:\", round(si, 2))\n",
        "print(\"Total Amount is:\", round(total, 2))\n"
      ],
      "metadata": {
        "colab": {
          "base_uri": "https://localhost:8080/"
        },
        "id": "sMSfRSSePvlc",
        "outputId": "c5396776-349e-4924-e7de-37c6686570a7"
      },
      "execution_count": null,
      "outputs": [
        {
          "output_type": "stream",
          "name": "stdout",
          "text": [
            "Simple Interest is: 166.67\n",
            "Total Amount is: 1166.67\n"
          ]
        }
      ]
    },
    {
      "cell_type": "code",
      "source": [
        "def args(*xyz):\n",
        "  return sum(xyz)\n",
        "print(args(1,2,3,4,5,6))\n",
        "print(args(1,3,3))\n"
      ],
      "metadata": {
        "colab": {
          "base_uri": "https://localhost:8080/"
        },
        "id": "ugF7e0HqVjuo",
        "outputId": "24259124-885a-4563-999c-54d3e47b5b86"
      },
      "execution_count": null,
      "outputs": [
        {
          "output_type": "stream",
          "name": "stdout",
          "text": [
            "21\n",
            "7\n"
          ]
        }
      ]
    },
    {
      "cell_type": "code",
      "source": [
        "def args(*xyz):\n",
        "  sum=0\n",
        "  for i in xyz:\n",
        "    sum+=i\n",
        "  return sum\n",
        "print(args(1,2,3,4,5,6))\n",
        "print(args(1,3,3))\n"
      ],
      "metadata": {
        "colab": {
          "base_uri": "https://localhost:8080/"
        },
        "id": "iASrU8wka0jP",
        "outputId": "971f9e8e-1d06-46a3-dd04-6a923ee7f4c0"
      },
      "execution_count": null,
      "outputs": [
        {
          "output_type": "stream",
          "name": "stdout",
          "text": [
            "21\n",
            "7\n"
          ]
        }
      ]
    },
    {
      "cell_type": "code",
      "source": [
        "def fact_sum(num):\n",
        "  fact = 1\n",
        "  sum=0\n",
        "  for i in range(1,num+1):\n",
        "    fact*=i\n",
        "    if i%2!=0:\n",
        "       sum+=fact\n",
        "  return sum\n",
        "result=fact_sum(3)\n",
        "print(result)"
      ],
      "metadata": {
        "id": "as2-JQR3b5J5",
        "colab": {
          "base_uri": "https://localhost:8080/"
        },
        "outputId": "0e3b102c-5415-4c50-dcbc-9372e260495c"
      },
      "execution_count": 12,
      "outputs": [
        {
          "output_type": "stream",
          "name": "stdout",
          "text": [
            "7\n"
          ]
        }
      ]
    },
    {
      "cell_type": "code",
      "source": [
        "def add_digit(num1,num2):\n",
        "    return num1 + num2\n",
        "\n",
        "def average_num(num1,num2):\n",
        "    result = add_digit(num1,num2)\n",
        "    average = result/2\n",
        "    return average\n",
        "\n",
        "result_average = average_num(10,30)\n",
        "print(result_average)"
      ],
      "metadata": {
        "colab": {
          "base_uri": "https://localhost:8080/"
        },
        "id": "G_Bwrm8HUrqz",
        "outputId": "c4608b75-074c-47f7-d663-0330ffcaa6bc"
      },
      "execution_count": 17,
      "outputs": [
        {
          "output_type": "stream",
          "name": "stdout",
          "text": [
            "20.0\n"
          ]
        }
      ]
    }
  ]
}
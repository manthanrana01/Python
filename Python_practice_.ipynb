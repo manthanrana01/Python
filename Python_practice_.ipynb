{
  "nbformat": 4,
  "nbformat_minor": 0,
  "metadata": {
    "colab": {
      "provenance": [],
      "authorship_tag": "ABX9TyPMPenhXpf3xB2gD9UKKBuT",
      "include_colab_link": true
    },
    "kernelspec": {
      "name": "python3",
      "display_name": "Python 3"
    },
    "language_info": {
      "name": "python"
    }
  },
  "cells": [
    {
      "cell_type": "markdown",
      "metadata": {
        "id": "view-in-github",
        "colab_type": "text"
      },
      "source": [
        "<a href=\"https://colab.research.google.com/github/manthanrana01/Python/blob/main/Python_practice_.ipynb\" target=\"_parent\"><img src=\"https://colab.research.google.com/assets/colab-badge.svg\" alt=\"Open In Colab\"/></a>"
      ]
    },
    {
      "cell_type": "code",
      "execution_count": null,
      "metadata": {
        "colab": {
          "base_uri": "https://localhost:8080/"
        },
        "id": "R2ZrqV6UuKkd",
        "outputId": "fc2f6e8f-b107-4939-c2ca-692e8b064953"
      },
      "outputs": [
        {
          "output_type": "stream",
          "name": "stdout",
          "text": [
            "mango\n"
          ]
        }
      ],
      "source": [
        "#list use [] for list\n",
        "list =[\"apple\", \"mango\", \"banna\"]\n",
        "print(list[1])"
      ]
    },
    {
      "cell_type": "code",
      "source": [
        "#import matplotlib.pyplot as plt\n",
        "#plt.bar () for bar graph\n",
        "#plt.xlable() used for states\n",
        "#plt.ylable() used for sales\n",
        "#plt.show()  used for show the bar graph"
      ],
      "metadata": {
        "id": "ApaPhUUPyVEZ"
      },
      "execution_count": null,
      "outputs": []
    },
    {
      "cell_type": "code",
      "source": [
        "customer_name =[\"a\" \"b\" \"c\" \"d\" \"e\" \"f\" \"g\" \"h\" \"i\" \"j\" \"k\" \"l\" ]\n",
        "states =[\"HP\" \"PB\" \"HR\" \"HP\" \"PB\" \"HP\" \"HR\" \"PB\" \"HR\" \"HP\" \"HR\" \"PB\" \"HP\"]\n",
        "product_name =[\"Laptop\" \"mobile\" \"Smart TV\" \"Laptop \" \"Smart tv\" \"Mobile \" \"Laptop\" \"Mobile \" \"SmartTv\" \"Mobile\" \"SmartTV\" \"Laptop\"]\n",
        "gender=[\"M\" \"F\" \"M\" \"F\" \"M\" \"F\" \"M\" \"F\" \"M\" \"F\" \"M\" \"F\"]\n",
        "amount=[\"35000\" \"40000\" \"28000\" \"60000\" \"20000\" \"33000\" \"55000\" \"44000\" \"49000\" \"38000\" \"65000\" \"220000\"]\n",
        "total_sales =0\n",
        "print(customer_name)\n",
        "print(states)\n",
        "print(product_name)\n",
        "print(gender)\n",
        "print(amount)\n",
        "for i in  amount:\n",
        "  total_sales=total_sales+i\n",
        "  print(total_sales)\n",
        "  unique_states=[]\n",
        "\n"
      ],
      "metadata": {
        "colab": {
          "base_uri": "https://localhost:8080/"
        },
        "id": "Q7llyAfVzzne",
        "outputId": "4caa27fc-4f53-4f64-db8b-8a482751d6bf"
      },
      "execution_count": null,
      "outputs": [
        {
          "output_type": "stream",
          "name": "stdout",
          "text": [
            "['abcdefghijkl']\n",
            "['HPPBHRHPPBHPHRPBHRHPHRPBHP']\n",
            "['LaptopmobileSmart TVLaptop Smart tvMobile LaptopMobile SmartTvMobileSmartTVLaptop']\n",
            "['MFMFMFMFMFMF']\n",
            "['3500040000280006000020000330005500044000490003800065000220000']\n"
          ]
        }
      ]
    }
  ]
}
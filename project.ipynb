{
  "nbformat": 4,
  "nbformat_minor": 0,
  "metadata": {
    "colab": {
      "provenance": [],
      "authorship_tag": "ABX9TyNhB2iYzYVavZyIm8p4uJIg",
      "include_colab_link": true
    },
    "kernelspec": {
      "name": "python3",
      "display_name": "Python 3"
    },
    "language_info": {
      "name": "python"
    }
  },
  "cells": [
    {
      "cell_type": "markdown",
      "metadata": {
        "id": "view-in-github",
        "colab_type": "text"
      },
      "source": [
        "<a href=\"https://colab.research.google.com/github/manthanrana01/Python/blob/main/project.ipynb\" target=\"_parent\"><img src=\"https://colab.research.google.com/assets/colab-badge.svg\" alt=\"Open In Colab\"/></a>"
      ]
    },
    {
      "cell_type": "code",
      "execution_count": null,
      "metadata": {
        "id": "gogPc8Bv1myx"
      },
      "outputs": [],
      "source": [
        "#documents\n",
        "#when the campany is tech the data anylisis  work under data science\n",
        "# if the campay is business oriented then the  data anylsis work here"
      ]
    },
    {
      "cell_type": "code",
      "source": [
        "#create a report of your project #title page\n",
        "#introduction\n",
        "#dtaa\n",
        "#aproch conclustion"
      ],
      "metadata": {
        "id": "tDHZwGPV8Naw"
      },
      "execution_count": null,
      "outputs": []
    },
    {
      "cell_type": "code",
      "source": [
        "company=[\"tata\",\"honda\",\"audi\",\"suzuki\",\"herohonda\",\"jupiter\",\"civic\",\"Tesla\"]\n",
        "vehicle=[\"car\",\"bike\",\"car\",\"car\",\"bike\",\"bike\",\"activa\",\"car\"]\n",
        "cost_price=[100000,200000,300000,500000,300000,100000,100000,500000]\n",
        "sales_price=[110000,250000,400000,600000,450000,200000,200000,600000]\n",
        "region=[\"west\",\"east\",\"north\",\"west\",\"east\",\"north\",\"east\",\"west\"]\n",
        "gender=[\"male\",\"female\",\"transgender\",\"female\",\"male\",\"female\",\"male\",\"female\"]\n",
        "unique_vehicle=[]\n",
        "unique_region=[]\n",
        "region_wise_sales=[]\n",
        "unique_gender=[]\n",
        "gender_wise_sales=[]\n",
        "sum=0\n",
        "cost=0\n",
        "profit1=[]\n",
        "#totalsales\n",
        "for p in sales_price:\n",
        "  sum=sum+p\n",
        "print(f\"total sales made by company is : {sum}\")\n",
        "#total cost\n",
        "for c in cost_price:\n",
        "    cost=cost+c\n",
        "print(f\"total cost pricce is : {cost}\")\n",
        "#total profit\n",
        "total_profit=sum-cost\n",
        "print(f\"total profit made by company is : {total_profit}\")\n",
        "\n",
        "#unique product\n",
        "for pro in vehicle:\n",
        "  if pro not in unique_vehicle:\n",
        "    unique_vehicle.append(pro)\n",
        "print(f\"name of our vechiles : {unique_vehicle}\")\n",
        "#unique region\n",
        "for r in region:\n",
        "  if r not in unique_region:\n",
        "    unique_region.append(r)\n",
        "    region_wise_sales.append(0)\n",
        "print(f\"name of our regions we sell in are : {unique_region}\")\n",
        "#unique gender\n",
        "for g in gender:\n",
        "  if g not in unique_gender:\n",
        "    unique_gender.append(g)\n",
        "    gender_wise_sales.append(0)\n",
        "print(f\"our customer's gender : {unique_gender}\")\n",
        "#gender wise sales\n",
        "for j in range(len(gender)):\n",
        "  indx=unique_gender.index(gender[j])\n",
        "  gender_wise_sales[indx]=gender_wise_sales[indx]+sales_price[j]\n",
        "print(f\"company's gender wise sales are : {gender_wise_sales}\")\n",
        "\n",
        "#region wise sale and profit\n",
        "region_wise_profit = [0] * len(unique_region) # Initialize region_wise_profit list\n",
        "\n",
        "for i in range(len(region)):\n",
        "  indexing=unique_region.index(region[i])\n",
        "  region_wise_sales[indexing] = region_wise_sales[indexing] + sales_price[i]\n",
        "  region_wise_profit[indexing] = region_wise_profit[indexing] + (sales_price[i] - cost_price[i]) # Calculate region wise profit\n",
        "print(f\"company's region wise sales are : {region_wise_sales}\")\n",
        "print(f\"company's region wise profits are : {region_wise_profit}\") # Print region wise profit\n",
        "\n",
        "#bar\n",
        "import matplotlib.pyplot as plt\n",
        "plt.bar(unique_region,region_wise_profit)\n",
        "plt.title(\"OUR REGION WISE PROFIT\")\n",
        "plt.xlabel(\"region\")\n",
        "plt.ylabel(\"profit\")\n",
        "plt.show()"
      ],
      "metadata": {
        "colab": {
          "base_uri": "https://localhost:8080/",
          "height": 628
        },
        "id": "3Mz8S-s98z1e",
        "outputId": "0eabae82-c29b-4a2d-e992-d861b97b0ac0"
      },
      "execution_count": null,
      "outputs": [
        {
          "output_type": "stream",
          "name": "stdout",
          "text": [
            "total sales made by company is : 2810000\n",
            "total cost pricce is : 2100000\n",
            "total profit made by company is : 710000\n",
            "name of our vechiles : ['car', 'bike', 'activa']\n",
            "name of our regions we sell in are : ['west', 'east', 'north']\n",
            "our customer's gender : ['male', 'female', 'transgender']\n",
            "company's gender wise sales are : [760000, 1650000, 400000]\n",
            "company's region wise sales are : [1310000, 900000, 600000]\n",
            "company's region wise profits are : [210000, 300000, 200000]\n"
          ]
        },
        {
          "output_type": "display_data",
          "data": {
            "text/plain": [
              "<Figure size 640x480 with 1 Axes>"
            ],
            "image/png": "[encoded data removed]"
          },
          "metadata": {}
        }
      ]
    },
    {
      "cell_type": "code",
      "source": [
        "#tuple cannot be change ()bases in mutable\n",
        "#in set comes in {} barses evertying is same as list but you cannot duplicate the value6\n",
        "#list in [ ]bases it can be  Mutable"
      ],
      "metadata": {
        "id": "qpGMjApfCbG0"
      },
      "execution_count": null,
      "outputs": []
    },
    {
      "cell_type": "code",
      "source": [
        "\n",
        "a = (10,20,30,40)\n",
        "mylist = list(a)\n",
        "mylist[1]=100\n",
        "a = tuple(mylist)\n",
        "print(a)"
      ],
      "metadata": {
        "colab": {
          "base_uri": "https://localhost:8080/"
        },
        "id": "9rJpGe-7EL7W",
        "outputId": "2edf3695-7588-400e-8f94-978f87295d65"
      },
      "execution_count": null,
      "outputs": [
        {
          "output_type": "stream",
          "name": "stdout",
          "text": [
            "(10, 100, 30, 40)\n"
          ]
        }
      ]
    },
    {
      "cell_type": "code",
      "source": [
        "a =(10,20,30,40)\n",
        "print(a[3])\n"
      ],
      "metadata": {
        "colab": {
          "base_uri": "https://localhost:8080/"
        },
        "id": "yrpXirK6E_02",
        "outputId": "2e051e8e-b0e3-40d6-a7a4-6d0c90325797"
      },
      "execution_count": null,
      "outputs": [
        {
          "output_type": "stream",
          "name": "stdout",
          "text": [
            "40\n"
          ]
        }
      ]
    }
  ]
}